{
 "cells": [
  {
   "cell_type": "code",
   "execution_count": 1,
   "id": "fa12c62e-4fc9-4d03-abc9-9f5408589a89",
   "metadata": {},
   "outputs": [],
   "source": [
    "import tensorflow as tf"
   ]
  },
  {
   "cell_type": "code",
   "execution_count": 2,
   "id": "d15a3d2e-81d8-4d31-9fe9-5e23bedfee8c",
   "metadata": {},
   "outputs": [],
   "source": [
    "from tensorflow.keras.models import Model\n",
    "from tensorflow.keras.layers import Input, Dense, Embedding, Concatenate, Flatten\n",
    "from tensorflow.keras.optimizers import Adam\n",
    "from tensorflow.keras.metrics import Accuracy\n",
    "from tensorflow.keras.losses import BinaryCrossentropy\n",
    "from tensorflow.keras.utils import to_categorical, plot_model\n",
    "from sklearn.model_selection import train_test_split\n",
    "from sklearn.preprocessing import StandardScaler\n",
    "from tensorflow.keras.optimizers import Adam\n",
    "from tensorflow.keras.losses import MeanSquaredError\n",
    "from tensorflow.keras.metrics import MeanSquaredError\n",
    "from sklearn.compose import make_column_transformer\n",
    "from sklearn.preprocessing import MinMaxScaler, OneHotEncoder\n",
    "import numpy as np\n",
    "import pandas as pd"
   ]
  },
  {
   "cell_type": "code",
   "execution_count": 3,
   "id": "a99ebc14-a0eb-4e27-815e-c79b5a0c1838",
   "metadata": {},
   "outputs": [],
   "source": [
    "file_path = r'C:\\Users\\CBS\\Python_ML_2023\\Exercises\\Final Project\\df_wine_clean.csv'\n",
    "df = pd.read_csv(file_path)"
   ]
  },
  {
   "cell_type": "code",
   "execution_count": 4,
   "id": "c09e0d98-cecf-4acc-9e2c-48c18fc24199",
   "metadata": {},
   "outputs": [
    {
     "data": {
      "text/plain": [
       "Index(['country', 'description', 'designation', 'points', 'price', 'province',\n",
       "       'region_1', 'taster_name', 'title', 'variety', 'winery',\n",
       "       'taster_weight_cat', 'clean_text', 'extracted_words',\n",
       "       'extracted_digits'],\n",
       "      dtype='object')"
      ]
     },
     "execution_count": 4,
     "metadata": {},
     "output_type": "execute_result"
    }
   ],
   "source": [
    "df.columns"
   ]
  },
  {
   "cell_type": "code",
   "execution_count": 129,
   "id": "6b78a187-a482-46bb-852d-4a92b0b2245d",
   "metadata": {},
   "outputs": [],
   "source": [
    "# Assuming df is your original DataFrame\n",
    "sample_size = int(len(df) * 0.4)  # 100% of the data\n",
    "sample_df = df.sample(n=sample_size, random_state=42)"
   ]
  },
  {
   "cell_type": "code",
   "execution_count": 130,
   "id": "6e2d6faa-30d1-4758-bcb6-1b8040964aec",
   "metadata": {},
   "outputs": [
    {
     "data": {
      "text/plain": [
       "51985"
      ]
     },
     "execution_count": 130,
     "metadata": {},
     "output_type": "execute_result"
    }
   ],
   "source": [
    "len(sample_df)"
   ]
  },
  {
   "cell_type": "code",
   "execution_count": 103,
   "id": "bf77bea0-99f6-42e7-9146-c6dfdfbf3332",
   "metadata": {},
   "outputs": [
    {
     "name": "stdout",
     "output_type": "stream",
     "text": [
      "Sum of unique values in country: 38\n",
      "Sum of unique values in description: 25586\n",
      "Sum of unique values in designation: 12123\n",
      "Sum of unique values in points: 21\n",
      "Sum of unique values in price: 349\n",
      "Sum of unique values in province: 316\n",
      "Sum of unique values in region_1: 934\n",
      "Sum of unique values in taster_name: 20\n",
      "Sum of unique values in title: 25515\n",
      "Sum of unique values in variety: 473\n",
      "Sum of unique values in winery: 9344\n",
      "Sum of unique values in taster_weight_cat: 4\n",
      "Sum of unique values in clean_text: 25585\n",
      "Sum of unique values in extracted_words: 1153\n",
      "Sum of unique values in extracted_digits: 57\n"
     ]
    }
   ],
   "source": [
    "for column in sample_df.columns:\n",
    "    unique_values_sum = sample_df[column].nunique()\n",
    "    print(f\"Sum of unique values in {column}: {unique_values_sum}\")"
   ]
  },
  {
   "cell_type": "code",
   "execution_count": 9,
   "id": "12307e1b-a0d3-4bb7-86c4-31cfb35e5919",
   "metadata": {},
   "outputs": [],
   "source": [
    "### Text vectorization (tokenization)\n",
    "import tensorflow as tf\n",
    "from tensorflow.keras.layers import TextVectorization # after TensorFlow 2.6\n",
    "\n",
    "\n",
    "# Use the default TextVectorization variables\n",
    "text_vectorizer = TextVectorization(max_tokens=None, # how many words in the vocabulary (all of the different words in your text)\n",
    "                                    standardize=\"lower_and_strip_punctuation\", # how to process text\n",
    "                                    split=\"whitespace\", # how to split tokens\n",
    "                                    ngrams=None, # create groups of n-words?\n",
    "                                    output_mode=\"int\", # how to map tokens to numbers\n",
    "                                    output_sequence_length=None) # how long should the output sequence of tokens be?\n",
    "                                    # pad_to_max_tokens=True) # Not valid if using max_tokens=None"
   ]
  },
  {
   "cell_type": "code",
   "execution_count": 9,
   "id": "9ea5acce-a221-4765-9600-7b88b5383fe4",
   "metadata": {},
   "outputs": [
    {
     "ename": "NameError",
     "evalue": "name 'train_sentences' is not defined",
     "output_type": "error",
     "traceback": [
      "\u001b[1;31m---------------------------------------------------------------------------\u001b[0m",
      "\u001b[1;31mNameError\u001b[0m                                 Traceback (most recent call last)",
      "\u001b[1;32m~\\AppData\\Local\\Temp\\ipykernel_7248\\2464292768.py\u001b[0m in \u001b[0;36m<module>\u001b[1;34m\u001b[0m\n\u001b[0;32m      1\u001b[0m \u001b[1;31m# Find average number of tokens (words) in training Tweets\u001b[0m\u001b[1;33m\u001b[0m\u001b[1;33m\u001b[0m\u001b[0m\n\u001b[1;32m----> 2\u001b[1;33m \u001b[0mround\u001b[0m\u001b[1;33m(\u001b[0m\u001b[0msum\u001b[0m\u001b[1;33m(\u001b[0m\u001b[1;33m[\u001b[0m\u001b[0mlen\u001b[0m\u001b[1;33m(\u001b[0m\u001b[0mi\u001b[0m\u001b[1;33m.\u001b[0m\u001b[0msplit\u001b[0m\u001b[1;33m(\u001b[0m\u001b[1;33m)\u001b[0m\u001b[1;33m)\u001b[0m \u001b[1;32mfor\u001b[0m \u001b[0mi\u001b[0m \u001b[1;32min\u001b[0m \u001b[0mtrain_sentences\u001b[0m\u001b[1;33m]\u001b[0m\u001b[1;33m)\u001b[0m\u001b[1;33m/\u001b[0m\u001b[0mlen\u001b[0m\u001b[1;33m(\u001b[0m\u001b[0mtrain_sentences\u001b[0m\u001b[1;33m)\u001b[0m\u001b[1;33m)\u001b[0m\u001b[1;33m\u001b[0m\u001b[1;33m\u001b[0m\u001b[0m\n\u001b[0m",
      "\u001b[1;31mNameError\u001b[0m: name 'train_sentences' is not defined"
     ]
    }
   ],
   "source": [
    "# Find average number of tokens (words) in training Tweets\n",
    "round(sum([len(i.split()) for i in train_sentences])/len(train_sentences))"
   ]
  },
  {
   "cell_type": "code",
   "execution_count": 20,
   "id": "7a19037d-79d6-4c41-ba47-0d76196ccc95",
   "metadata": {},
   "outputs": [],
   "source": [
    "# Setup text vectorization with custom variables\n",
    "max_vocab_length = 10000 # max number of words to have in our vocabulary\n",
    "max_length = 40 # max length our sequences will be (e.g. how many words from a Tweet does our model see?)\n",
    "\n",
    "text_vectorizer = TextVectorization(max_tokens=max_vocab_length,\n",
    "                                    output_mode=\"int\",\n",
    "                                    output_sequence_length=max_length)"
   ]
  },
  {
   "cell_type": "code",
   "execution_count": null,
   "id": "68e2e61d-96d9-41ea-af6c-c4d130da21b9",
   "metadata": {},
   "outputs": [],
   "source": [
    "###start here"
   ]
  },
  {
   "cell_type": "code",
   "execution_count": 11,
   "id": "8b8d2777-25a4-4929-a8a1-09027f71fe35",
   "metadata": {},
   "outputs": [],
   "source": [
    "from sklearn.compose import ColumnTransformer\n",
    "from sklearn.preprocessing import MinMaxScaler, OneHotEncoder"
   ]
  },
  {
   "cell_type": "code",
   "execution_count": 12,
   "id": "cd895983-70d2-4747-b024-cb3f423b8d32",
   "metadata": {},
   "outputs": [],
   "source": [
    "# Define the column transformer\n",
    "ct = ColumnTransformer([\n",
    "    ('numeric', MinMaxScaler(), ['price']),\n",
    "    ('categorical', OneHotEncoder(handle_unknown=\"ignore\"), ['country',  'designation',  'province', 'region_1', 'taster_name',  'variety',      \n",
    "                               'taster_weight_cat',  'extracted_words', 'extracted_digits'])\n",
    "], remainder='passthrough')"
   ]
  },
  {
   "cell_type": "code",
   "execution_count": 135,
   "id": "6c0e90a0-b851-400a-ba2a-a061587549a3",
   "metadata": {},
   "outputs": [],
   "source": [
    "# Create X & y\n",
    "X = sample_df.drop(['points','clean_text','title','winery'], axis=1)\n",
    "y = sample_df['points']"
   ]
  },
  {
   "cell_type": "code",
   "execution_count": 105,
   "id": "892143c5-13d9-4ec4-bd6a-55ca50556f9e",
   "metadata": {},
   "outputs": [],
   "source": [
    "# Build our train and test sets (use random state to ensure same split as before)\n",
    "X_train, X_test, y_train, y_test = train_test_split(X, y, test_size=0.2, random_state=42)"
   ]
  },
  {
   "cell_type": "code",
   "execution_count": 136,
   "id": "52ee25ac-15d6-4bec-bb0e-b52f5f939a30",
   "metadata": {},
   "outputs": [
    {
     "data": {
      "text/plain": [
       "Index(['country', 'description', 'designation', 'price', 'province',\n",
       "       'region_1', 'taster_name', 'variety', 'taster_weight_cat',\n",
       "       'extracted_words', 'extracted_digits'],\n",
       "      dtype='object')"
      ]
     },
     "execution_count": 136,
     "metadata": {},
     "output_type": "execute_result"
    }
   ],
   "source": [
    "X_train.columns"
   ]
  },
  {
   "cell_type": "code",
   "execution_count": 137,
   "id": "4b1ef3d7-c403-4baf-ac95-2e5eb64d7b6a",
   "metadata": {},
   "outputs": [
    {
     "data": {
      "text/plain": [
       "<31191x17267 sparse matrix of type '<class 'numpy.float64'>'\n",
       "\twith 311906 stored elements in Compressed Sparse Row format>"
      ]
     },
     "execution_count": 137,
     "metadata": {},
     "output_type": "execute_result"
    }
   ],
   "source": [
    "ct.fit_transform(X_train.drop('description', axis=1))"
   ]
  },
  {
   "cell_type": "code",
   "execution_count": 138,
   "id": "82aaae28-f6e8-4ba6-a48d-31cb21c7cd6f",
   "metadata": {},
   "outputs": [],
   "source": [
    "# Fit column transformer on the training data only (doing so on test data would result in data leakage)\n",
    "\n",
    "# Transform training and test data with normalization (MinMaxScalar) and one hot encoding (OneHotEncoder)\n",
    "X_train_normal = ct.transform(X_train.drop('description', axis=1))\n",
    "X_test_normal = ct.transform(X_test.drop('description', axis=1))"
   ]
  },
  {
   "cell_type": "code",
   "execution_count": 139,
   "id": "33a7661f-6e15-43ec-ac46-1c0f249fb40f",
   "metadata": {},
   "outputs": [],
   "source": [
    "X_train_dense = X_train_normal.toarray()\n",
    "X_test_dense=X_test_normal.toarray()"
   ]
  },
  {
   "cell_type": "code",
   "execution_count": 140,
   "id": "a31d92ee-371a-43af-9802-5c4ddb50a867",
   "metadata": {},
   "outputs": [
    {
     "data": {
      "text/plain": [
       "(31191, 17267)"
      ]
     },
     "execution_count": 140,
     "metadata": {},
     "output_type": "execute_result"
    }
   ],
   "source": [
    "X_train_dense.shape"
   ]
  },
  {
   "cell_type": "code",
   "execution_count": 141,
   "id": "c687f164-3321-4deb-b196-58d3c7a867ce",
   "metadata": {},
   "outputs": [
    {
     "data": {
      "text/plain": [
       "(7798, 17267)"
      ]
     },
     "execution_count": 141,
     "metadata": {},
     "output_type": "execute_result"
    }
   ],
   "source": [
    "X_test_dense.shape\n"
   ]
  },
  {
   "cell_type": "code",
   "execution_count": 142,
   "id": "1ae4c763-8d22-4161-8aca-91c4751ad8fc",
   "metadata": {},
   "outputs": [
    {
     "data": {
      "text/plain": [
       "(31191,)"
      ]
     },
     "execution_count": 142,
     "metadata": {},
     "output_type": "execute_result"
    }
   ],
   "source": [
    "y_train.shape"
   ]
  },
  {
   "cell_type": "code",
   "execution_count": 113,
   "id": "229a66d0-e676-4826-b92b-82318d47cefc",
   "metadata": {},
   "outputs": [
    {
     "data": {
      "text/plain": [
       "array([0.00400641, 0.        , 0.        , ..., 0.        , 0.        ,\n",
       "       0.        ])"
      ]
     },
     "execution_count": 113,
     "metadata": {},
     "output_type": "execute_result"
    }
   ],
   "source": [
    "X_train_dense[0]"
   ]
  },
  {
   "cell_type": "code",
   "execution_count": 143,
   "id": "225a5698-ed6f-4886-8be9-95f66077704d",
   "metadata": {},
   "outputs": [],
   "source": [
    "text_vectorizer.adapt(X_train['description'])"
   ]
  },
  {
   "cell_type": "code",
   "execution_count": 144,
   "id": "29e40cb5-b4cd-45d8-8bc5-e1fb73a60e9f",
   "metadata": {},
   "outputs": [],
   "source": [
    "### Text vectorization (tokenization)\n",
    "import tensorflow as tf\n",
    "from tensorflow.keras.layers import TextVectorization # after TensorFlow 2.6\n",
    "\n",
    "\n",
    "# Use the default TextVectorization variables\n",
    "text_vectorizer = TextVectorization(max_tokens=None, # how many words in the vocabulary (all of the different words in your text)\n",
    "                                    standardize=\"lower_and_strip_punctuation\", # how to process text\n",
    "                                    split=\"whitespace\", # how to split tokens\n",
    "                                    ngrams=None, # create groups of n-words?\n",
    "                                    output_mode=\"int\", # how to map tokens to numbers\n",
    "                                    output_sequence_length=None) # how long should the output sequence of tokens be?\n",
    "                                    # pad_to_max_tokens=True) # Not valid if using max_tokens=None"
   ]
  },
  {
   "cell_type": "code",
   "execution_count": 145,
   "id": "e54abf0d-064c-4da6-bd82-6731a35851f6",
   "metadata": {},
   "outputs": [
    {
     "data": {
      "text/plain": [
       "40"
      ]
     },
     "execution_count": 145,
     "metadata": {},
     "output_type": "execute_result"
    }
   ],
   "source": [
    "# Find average number of tokens (words) in training Tweets\n",
    "average_words_per_description = round(sum([len(i.split()) for i in X_train['description']]) / len(X_train['description']))\n",
    "average_words_per_description"
   ]
  },
  {
   "cell_type": "code",
   "execution_count": 146,
   "id": "123efe7e-0821-41f1-aff2-70d69a5d40d1",
   "metadata": {},
   "outputs": [],
   "source": [
    "# Setup text vectorization with custom variables\n",
    "max_vocab_length = 11000 # max number of words to have in our vocabulary\n",
    "max_length = 40 # max length our sequences will be (e.g. how many words from a Tweet does our model see?)\n",
    "\n",
    "text_vectorizer = TextVectorization(max_tokens=max_vocab_length,\n",
    "                                    output_mode=\"int\",\n",
    "                                    output_sequence_length=max_length)"
   ]
  },
  {
   "cell_type": "code",
   "execution_count": 147,
   "id": "c211f6ba-6491-4dcc-80eb-3cc032e3d4dd",
   "metadata": {},
   "outputs": [],
   "source": [
    "# Fit the text vectorizer to the training text\n",
    "text_vectorizer.adapt(X_train['description'])"
   ]
  },
  {
   "cell_type": "code",
   "execution_count": null,
   "id": "2439fe73-bbf3-409c-8b88-76aac432a01c",
   "metadata": {},
   "outputs": [],
   "source": [
    "# Creating an Embedding using an Embedding Layer"
   ]
  },
  {
   "cell_type": "code",
   "execution_count": 148,
   "id": "cb4009e7-e149-4b52-8d42-b01214a4e4e3",
   "metadata": {},
   "outputs": [
    {
     "data": {
      "text/plain": [
       "<keras.layers.core.embedding.Embedding at 0x189e3540910>"
      ]
     },
     "execution_count": 148,
     "metadata": {},
     "output_type": "execute_result"
    }
   ],
   "source": [
    "tf.random.set_seed(42)\n",
    "from tensorflow.keras import layers\n",
    "\n",
    "embedding = layers.Embedding(input_dim=max_vocab_length, # set input shape\n",
    "                             output_dim=128, # set size of embedding vector\n",
    "                             embeddings_initializer=\"uniform\", # default, intialize randomly\n",
    "                             input_length=max_length, # how long is each input\n",
    "                             name=\"embedding_1\") \n",
    "\n",
    "embedding"
   ]
  },
  {
   "cell_type": "code",
   "execution_count": 149,
   "id": "1fcd0045-d4cd-470e-bf74-577c35cdaa34",
   "metadata": {},
   "outputs": [],
   "source": [
    "tf.random.set_seed(42)\n",
    "from tensorflow.keras import layers\n",
    "\n",
    "\n",
    "#12948\n",
    "num_input = layers.Input(shape=(17267,), dtype=\"float32\")\n",
    "\n",
    "text_input = layers.Input(shape=(1,), dtype=\"string\")\n",
    "\n",
    "# Apply text_vectorizer to text_input\n",
    "#text_vectorizer = layers.TextVectorization(max_tokens=max_vocab_length, output_mode='int')\n",
    "x = text_vectorizer(text_input)\n",
    "x = embedding(x)\n",
    "x = layers.LSTM(64)(x)\n",
    "\n",
    "# Concatenate the outputs of all input layers\n",
    "concatenated = layers.Concatenate()([num_input, x])\n",
    "\n",
    "# Create the output layer\n",
    "outputs = layers.Dense(1, activation=\"linear\")(concatenated)\n",
    "\n",
    "# Create the model\n",
    "model_2 = tf.keras.Model([num_input, text_input], outputs, name=\"model_2_LSTM\")"
   ]
  },
  {
   "cell_type": "code",
   "execution_count": 150,
   "id": "2fadbfb1-1f40-4d01-bb9b-4f4989c109a2",
   "metadata": {},
   "outputs": [
    {
     "data": {
      "image/png": "[encoded data removed]",
      "text/plain": [
       "<IPython.core.display.Image object>"
      ]
     },
     "execution_count": 150,
     "metadata": {},
     "output_type": "execute_result"
    }
   ],
   "source": [
    "plot_model(model_2, show_dtype=True, show_shapes=True, show_layer_names=True, to_file='model_1.png') "
   ]
  },
  {
   "cell_type": "code",
   "execution_count": 151,
   "id": "c8585330-6360-4036-baa7-e1d6b4668382",
   "metadata": {},
   "outputs": [],
   "source": [
    "# Compile the model\n",
    "model_2.compile(loss=tf.keras.losses.mse,\n",
    "                          optimizer=tf.keras.optimizers.Adam(),\n",
    "                          metrics=['mse'])"
   ]
  },
  {
   "cell_type": "code",
   "execution_count": 152,
   "id": "914dec4b-b8f8-4555-b5bb-6b5d234d4082",
   "metadata": {},
   "outputs": [
    {
     "data": {
      "text/plain": [
       "((31191, 17267), (31191,), (31191,))"
      ]
     },
     "execution_count": 152,
     "metadata": {},
     "output_type": "execute_result"
    }
   ],
   "source": [
    "X_train_dense.shape, np.array(X_train['description']).shape,y_train.shape"
   ]
  },
  {
   "cell_type": "code",
   "execution_count": 153,
   "id": "c41fe7eb-ebc2-4933-9ec2-75d6536a94b6",
   "metadata": {},
   "outputs": [
    {
     "name": "stdout",
     "output_type": "stream",
     "text": [
      "Epoch 1/15\n",
      "975/975 [==============================] - 30s 29ms/step - loss: 3410.4053 - mse: 3410.4053\n",
      "Epoch 2/15\n",
      "975/975 [==============================] - 29s 29ms/step - loss: 290.4756 - mse: 290.4756\n",
      "Epoch 3/15\n",
      "975/975 [==============================] - 29s 29ms/step - loss: 14.7274 - mse: 14.7274\n",
      "Epoch 4/15\n",
      "975/975 [==============================] - 29s 29ms/step - loss: 9.5197 - mse: 9.5197\n",
      "Epoch 5/15\n",
      "975/975 [==============================] - 29s 29ms/step - loss: 8.9548 - mse: 8.9548\n",
      "Epoch 6/15\n",
      "975/975 [==============================] - 29s 29ms/step - loss: 8.3162 - mse: 8.3162\n",
      "Epoch 7/15\n",
      "975/975 [==============================] - 29s 30ms/step - loss: 7.6849 - mse: 7.6849\n",
      "Epoch 8/15\n",
      "975/975 [==============================] - 29s 30ms/step - loss: 7.1403 - mse: 7.1403\n",
      "Epoch 9/15\n",
      "975/975 [==============================] - 30s 30ms/step - loss: 6.7194 - mse: 6.7194\n",
      "Epoch 10/15\n",
      "975/975 [==============================] - 29s 30ms/step - loss: 6.4051 - mse: 6.4051\n",
      "Epoch 11/15\n",
      "975/975 [==============================] - 29s 30ms/step - loss: 5.3932 - mse: 5.3932\n",
      "Epoch 12/15\n",
      "975/975 [==============================] - 29s 30ms/step - loss: 2.9713 - mse: 2.9713\n",
      "Epoch 13/15\n",
      "975/975 [==============================] - 30s 30ms/step - loss: 2.1609 - mse: 2.1609\n",
      "Epoch 14/15\n",
      "975/975 [==============================] - 30s 30ms/step - loss: 1.7616 - mse: 1.7616\n",
      "Epoch 15/15\n",
      "975/975 [==============================] - 30s 30ms/step - loss: 1.4788 - mse: 1.4788\n"
     ]
    },
    {
     "data": {
      "text/plain": [
       "<keras.callbacks.History at 0x189d8730130>"
      ]
     },
     "execution_count": 153,
     "metadata": {},
     "output_type": "execute_result"
    }
   ],
   "source": [
    "model_2.fit([X_train_dense, np.array(X_train['description'])], y_train, epochs=15, batch_size=32)"
   ]
  },
  {
   "cell_type": "code",
   "execution_count": 154,
   "id": "3df03087-780b-40e4-afd4-115938fcd815",
   "metadata": {},
   "outputs": [
    {
     "name": "stdout",
     "output_type": "stream",
     "text": [
      "244/244 [==============================] - 2s 6ms/step\n"
     ]
    }
   ],
   "source": [
    "# Make predictions on the validation dataset\n",
    "model_2_pred_probs = model_2.predict([X_test_dense, np.array(X_test['description'])])"
   ]
  },
  {
   "cell_type": "code",
   "execution_count": 155,
   "id": "14feee6c-92e2-42a3-8ffc-f8b5adde3c18",
   "metadata": {},
   "outputs": [
    {
     "data": {
      "text/plain": [
       "array([[85.914604],\n",
       "       [89.0753  ],\n",
       "       [84.38629 ],\n",
       "       [85.50472 ],\n",
       "       [88.913925],\n",
       "       [88.09779 ],\n",
       "       [93.47756 ],\n",
       "       [87.26065 ],\n",
       "       [89.20038 ],\n",
       "       [84.78057 ]], dtype=float32)"
      ]
     },
     "execution_count": 155,
     "metadata": {},
     "output_type": "execute_result"
    }
   ],
   "source": [
    "model_2_pred_probs[:10]"
   ]
  },
  {
   "cell_type": "code",
   "execution_count": 156,
   "id": "abc24616-9ca9-4f2d-b474-f55f476b55ef",
   "metadata": {},
   "outputs": [
    {
     "data": {
      "text/plain": [
       "<tf.Tensor: shape=(20,), dtype=float32, numpy=\n",
       "array([86., 89., 84., 86., 89., 88., 93., 87., 89., 85., 90., 81., 92.,\n",
       "       86., 92., 83., 90., 91., 92., 85.], dtype=float32)>"
      ]
     },
     "execution_count": 156,
     "metadata": {},
     "output_type": "execute_result"
    }
   ],
   "source": [
    "# Turn prediction probabilities into single-dimension tensor of floats\n",
    "model_1_preds = tf.squeeze(tf.round(model_2_pred_probs)) # squeeze removes single dimensions\n",
    "model_1_preds[:20]"
   ]
  },
  {
   "cell_type": "code",
   "execution_count": 157,
   "id": "1b5428c4-818d-453f-9866-d46dfcac186c",
   "metadata": {},
   "outputs": [
    {
     "data": {
      "text/plain": [
       "{'MAE': 1.3330341113105924,\n",
       " 'MSE': 3.1422159528084124,\n",
       " 'R-squared': 0.6664200899698816}"
      ]
     },
     "execution_count": 157,
     "metadata": {},
     "output_type": "execute_result"
    }
   ],
   "source": [
    "# Get  results\n",
    "calculate_results(y_true= y_test,\n",
    "                                     y_pred=model_1_preds)"
   ]
  },
  {
   "cell_type": "code",
   "execution_count": 36,
   "id": "563fea4b-50db-4c32-90d5-a8fb9c96f171",
   "metadata": {},
   "outputs": [],
   "source": [
    "from sklearn.metrics import mean_absolute_error, mean_squared_error, r2_score\n",
    "\n",
    "def calculate_results(y_true, y_pred):\n",
    "    \"\"\"\n",
    "    Calculates model MAE, MSE, and R-squared of a regression model.\n",
    "\n",
    "    Args:\n",
    "    -----\n",
    "    y_true: true labels in the form of a 1D array\n",
    "    y_pred: predicted labels in the form of a 1D array\n",
    "\n",
    "    Returns a dictionary of MAE, MSE, and R-squared.\n",
    "    \"\"\"\n",
    "    # Calculate MAE\n",
    "    model_mae = mean_absolute_error(y_true, y_pred)\n",
    "    # Calculate MSE\n",
    "    model_mse = mean_squared_error(y_true, y_pred)\n",
    "    # Calculate R-squared\n",
    "    model_r2 = r2_score(y_true, y_pred)\n",
    "\n",
    "    model_results = {\"MAE\": model_mae,\n",
    "                     \"MSE\": model_mse,\n",
    "                     \"R-squared\": model_r2}\n",
    "\n",
    "    return model_results"
   ]
  },
  {
   "cell_type": "code",
   "execution_count": null,
   "id": "d6097f5f-ae1e-461d-947d-63de4ef420d6",
   "metadata": {},
   "outputs": [],
   "source": [
    "# improve the model"
   ]
  },
  {
   "cell_type": "code",
   "execution_count": 158,
   "id": "5fe19df3-6d75-4acc-b44d-6a27eebcd4b0",
   "metadata": {},
   "outputs": [],
   "source": [
    "# Fit the text vectorization layer with the training data\n",
    "text_vectorizer.adapt(np.array(X_train['description']))"
   ]
  },
  {
   "cell_type": "code",
   "execution_count": 163,
   "id": "f3f61506-0660-454f-905a-6ac93a714004",
   "metadata": {},
   "outputs": [],
   "source": [
    "from tensorflow.keras import layers\n",
    "from tensorflow.keras import regularizers\n",
    "\n",
    "# Input layers\n",
    "num_input = layers.Input(shape=(17267,), dtype=\"float32\")\n",
    "text_input = layers.Input(shape=(1,), dtype=\"string\")\n",
    "\n",
    "\n",
    "x = text_vectorizer(text_input)\n",
    "embedding = layers.Embedding(input_dim=max_vocab_length, output_dim=100)(x)\n",
    "x = layers.Dropout(0.5)(embedding)\n",
    "x = layers.Bidirectional(layers.LSTM(128, return_sequences=True))(x)\n",
    "x = layers.Dropout(0.5)(x)\n",
    "x = layers.Bidirectional(layers.LSTM(64))(x)\n",
    "\n",
    "# Concatenate the outputs of all input layers\n",
    "concatenated = layers.Concatenate()([num_input, x])\n",
    "\n",
    "# Dense layers\n",
    "x = layers.Dense(64, activation=\"relu\", kernel_regularizer=regularizers.l2(0.01))(concatenated)\n",
    "outputs = layers.Dense(1, activation=\"linear\")(x)\n",
    "\n",
    "\n"
   ]
  },
  {
   "cell_type": "code",
   "execution_count": 164,
   "id": "6234fc88-274e-4a9c-a85c-a3c8ccbd8277",
   "metadata": {},
   "outputs": [],
   "source": [
    "# Create the model\n",
    "model_2 = tf.keras.Model([num_input, text_input], outputs, name=\"improved_model\")\n"
   ]
  },
  {
   "cell_type": "code",
   "execution_count": 165,
   "id": "ff817285-d759-4413-9246-d81f4e7ba190",
   "metadata": {},
   "outputs": [],
   "source": [
    "# Compile the model\n",
    "model_2.compile(loss=\"mean_squared_error\", optimizer=\"adam\")\n"
   ]
  },
  {
   "cell_type": "code",
   "execution_count": 166,
   "id": "9413a39c-ef04-42e2-9fae-459e610d98c4",
   "metadata": {},
   "outputs": [
    {
     "name": "stdout",
     "output_type": "stream",
     "text": [
      "Epoch 1/10\n",
      "975/975 [==============================] - 87s 82ms/step - loss: 301.6542\n",
      "Epoch 2/10\n",
      "975/975 [==============================] - 82s 84ms/step - loss: 8.0055\n",
      "Epoch 3/10\n",
      "975/975 [==============================] - 82s 84ms/step - loss: 7.6888\n",
      "Epoch 4/10\n",
      "975/975 [==============================] - 83s 85ms/step - loss: 7.1932\n",
      "Epoch 5/10\n",
      "975/975 [==============================] - 83s 85ms/step - loss: 5.4114\n",
      "Epoch 6/10\n",
      "975/975 [==============================] - 83s 86ms/step - loss: 3.7310\n",
      "Epoch 7/10\n",
      "975/975 [==============================] - 83s 86ms/step - loss: 3.2189\n",
      "Epoch 8/10\n",
      "975/975 [==============================] - 84s 86ms/step - loss: 2.9202\n",
      "Epoch 9/10\n",
      "975/975 [==============================] - 84s 86ms/step - loss: 2.6706\n",
      "Epoch 10/10\n",
      "975/975 [==============================] - 84s 86ms/step - loss: 2.4985\n"
     ]
    },
    {
     "data": {
      "text/plain": [
       "<keras.callbacks.History at 0x189d75cf430>"
      ]
     },
     "execution_count": 166,
     "metadata": {},
     "output_type": "execute_result"
    }
   ],
   "source": [
    "# Fit the model\n",
    "model_2.fit([X_train_dense, np.array(X_train['description'])], y_train, epochs=10, batch_size=32)"
   ]
  },
  {
   "cell_type": "code",
   "execution_count": 167,
   "id": "845ae8c8-f0e1-44b7-b2a5-8d20d4e25744",
   "metadata": {},
   "outputs": [
    {
     "name": "stdout",
     "output_type": "stream",
     "text": [
      "244/244 [==============================] - 5s 19ms/step\n"
     ]
    }
   ],
   "source": [
    "# Make predictions on the validation dataset\n",
    "model_2_pred_probs = model_2.predict([X_test_dense, np.array(X_test['description'])])"
   ]
  },
  {
   "cell_type": "code",
   "execution_count": 168,
   "id": "b45c68c5-1f57-4bbb-a972-c8aa0fb0d625",
   "metadata": {},
   "outputs": [
    {
     "data": {
      "text/plain": [
       "<tf.Tensor: shape=(20,), dtype=float32, numpy=\n",
       "array([88., 89., 86., 85., 88., 89., 93., 87., 88., 86., 90., 83., 92.,\n",
       "       85., 93., 85., 90., 90., 92., 86.], dtype=float32)>"
      ]
     },
     "execution_count": 168,
     "metadata": {},
     "output_type": "execute_result"
    }
   ],
   "source": [
    "# Turn prediction probabilities into single-dimension tensor of floats\n",
    "model_1_preds = tf.squeeze(tf.round(model_2_pred_probs)) # squeeze removes single dimensions\n",
    "model_1_preds[:20]"
   ]
  },
  {
   "cell_type": "code",
   "execution_count": 169,
   "id": "1f6bafac-11c9-4883-a15c-43e5e1f2b243",
   "metadata": {},
   "outputs": [
    {
     "data": {
      "text/plain": [
       "{'MAE': 1.361246473454732,\n",
       " 'MSE': 3.1965888689407542,\n",
       " 'R-squared': 0.6606478220087024}"
      ]
     },
     "execution_count": 169,
     "metadata": {},
     "output_type": "execute_result"
    }
   ],
   "source": [
    "# Get  results\n",
    "calculate_results(y_true= y_test,\n",
    "                                     y_pred=model_1_preds)"
   ]
  },
  {
   "cell_type": "markdown",
   "id": "bc48a4ba-3257-45d3-ae42-3123c6f5ba78",
   "metadata": {},
   "source": [
    "# model 2 adding another text layer"
   ]
  },
  {
   "cell_type": "code",
   "execution_count": 13,
   "id": "8ce001f5-8a76-417f-8b03-68d589789b4f",
   "metadata": {},
   "outputs": [],
   "source": [
    "# Assuming df is your original DataFrame\n",
    "sample_size = int(len(df) * 0.4)  # 100% of the data\n",
    "sample_df = df.sample(n=sample_size, random_state=42)"
   ]
  },
  {
   "cell_type": "code",
   "execution_count": 14,
   "id": "96c6969a-fc22-436f-a3b6-0083b0c707d6",
   "metadata": {},
   "outputs": [],
   "source": [
    "# Create X & y\n",
    "X = sample_df.drop(['points','clean_text','title'], axis=1)\n",
    "y = sample_df['points']"
   ]
  },
  {
   "cell_type": "code",
   "execution_count": 15,
   "id": "b61f7d4c-666f-4340-af01-5c9706a88eba",
   "metadata": {},
   "outputs": [],
   "source": [
    "# Build our train and test sets (use random state to ensure same split as before)\n",
    "X_train, X_test, y_train, y_test = train_test_split(X, y, test_size=0.2, random_state=42)"
   ]
  },
  {
   "cell_type": "code",
   "execution_count": 16,
   "id": "27f14edd-ed27-48c5-a1cf-10b7f1a4094a",
   "metadata": {},
   "outputs": [
    {
     "data": {
      "text/plain": [
       "<41588x20761 sparse matrix of type '<class 'numpy.float64'>'\n",
       "\twith 415874 stored elements in Compressed Sparse Row format>"
      ]
     },
     "execution_count": 16,
     "metadata": {},
     "output_type": "execute_result"
    }
   ],
   "source": [
    "ct.fit_transform(X_train.drop(['description','winery'], axis=1))"
   ]
  },
  {
   "cell_type": "code",
   "execution_count": 17,
   "id": "2e634a05-32f9-4e31-8716-dd00cc49b5ea",
   "metadata": {},
   "outputs": [],
   "source": [
    "# Transform the training and test data using the fitted column transformer\n",
    "X_train_normal = ct.transform(X_train.drop(['description', 'winery'], axis=1))\n",
    "X_test_normal = ct.transform(X_test.drop(['description', 'winery'], axis=1))"
   ]
  },
  {
   "cell_type": "code",
   "execution_count": 18,
   "id": "31d24036-e988-490e-87ce-bff9e21236cd",
   "metadata": {},
   "outputs": [],
   "source": [
    "X_train_dense = X_train_normal.toarray()\n",
    "X_test_dense=X_test_normal.toarray()"
   ]
  },
  {
   "cell_type": "code",
   "execution_count": 19,
   "id": "cc532606-13b4-4106-aafe-5467b9f90ea0",
   "metadata": {},
   "outputs": [
    {
     "data": {
      "text/plain": [
       "<keras.layers.core.embedding.Embedding at 0x187b9f61850>"
      ]
     },
     "execution_count": 19,
     "metadata": {},
     "output_type": "execute_result"
    }
   ],
   "source": [
    "tf.random.set_seed(42)\n",
    "from tensorflow.keras import layers\n",
    "\n",
    "embedding2 = layers.Embedding(input_dim=max_vocab_length, # set input shape\n",
    "                             output_dim=128, # set size of embedding vector\n",
    "                             embeddings_initializer=\"uniform\", # default, intialize randomly\n",
    "                             input_length=max_length, # how long is each input\n",
    "                             name=\"embedding_1\") \n",
    "\n",
    "embedding2"
   ]
  },
  {
   "cell_type": "code",
   "execution_count": 21,
   "id": "436cf424-aca9-427b-a453-5847f5176ab7",
   "metadata": {},
   "outputs": [],
   "source": [
    "# Define the text vectorization layer\n",
    "text_vectorizer1 = layers.TextVectorization(max_tokens=max_vocab_length, output_mode='int', output_sequence_length=max_length, name='text_vectorizer')\n"
   ]
  },
  {
   "cell_type": "code",
   "execution_count": 22,
   "id": "c47bde38-b2a9-4ae6-a664-65fef8351e1f",
   "metadata": {},
   "outputs": [],
   "source": [
    "# Define the text vectorization layer\n",
    "text_vectorizer2 = layers.TextVectorization(max_tokens=max_vocab_length, output_mode='int', output_sequence_length=max_length, name='text_vectorizer')\n"
   ]
  },
  {
   "cell_type": "code",
   "execution_count": 23,
   "id": "adac32d5-96d1-429f-87ab-0a104f1913ad",
   "metadata": {},
   "outputs": [],
   "source": [
    "# Fit the text vectorizer to the training text\n",
    "text_vectorizer1.adapt(X_train['description'])"
   ]
  },
  {
   "cell_type": "code",
   "execution_count": 24,
   "id": "61731432-703e-4ee4-bb28-e264c58a95fc",
   "metadata": {},
   "outputs": [],
   "source": [
    "# Fit the text vectorizer to the training text\n",
    "text_vectorizer2.adapt(X_train['winery'])"
   ]
  },
  {
   "cell_type": "code",
   "execution_count": 29,
   "id": "d1d63f48-8e8a-4087-83a4-ad19871e648b",
   "metadata": {},
   "outputs": [],
   "source": [
    "import tensorflow as tf\n",
    "from tensorflow.keras import layers\n",
    "\n",
    "tf.random.set_seed(42)\n",
    "\n",
    "max_vocab_length = 10000\n",
    "max_length = 100\n",
    "\n",
    "# Define the text vectorization layers with unique names\n",
    "text_vectorizer1 = layers.TextVectorization(max_tokens=max_vocab_length, output_mode='int', output_sequence_length=max_length, name='text_vectorizer1')\n",
    "text_vectorizer2 = layers.TextVectorization(max_tokens=max_vocab_length, output_mode='int', output_sequence_length=max_length, name='text_vectorizer2')\n",
    "\n",
    "# Fit the text vectorizers to the training text\n",
    "text_vectorizer1.adapt(X_train['description'])\n",
    "text_vectorizer2.adapt(X_train['winery'])\n",
    "\n",
    "# Define the embedding layer\n",
    "embedding2 = layers.Embedding(input_dim=max_vocab_length, output_dim=128, embeddings_initializer=\"uniform\", input_length=max_length, name=\"embedding\")\n",
    "\n",
    "# Define the input layers\n",
    "num_input = layers.Input(shape=(20761,), dtype=\"float32\")\n",
    "text_input_1 = layers.Input(shape=(1,), dtype=\"string\")\n",
    "text_input_2 = layers.Input(shape=(1,), dtype=\"string\")\n",
    "\n",
    "# Apply text_vectorizer1 to text_input_1\n",
    "x1 = text_vectorizer1(text_input_1)\n",
    "x1 = embedding2(x1)\n",
    "x1 = layers.Dropout(0.5)(x1)\n",
    "x1 = layers.Bidirectional(layers.LSTM(128, return_sequences=True))(x1)\n",
    "x1 = layers.Dropout(0.5)(x1)\n",
    "x1 = layers.Bidirectional(layers.LSTM(64))(x1)\n",
    "\n",
    "# Apply text_vectorizer2 to text_input_2\n",
    "x2 = text_vectorizer2(text_input_2)\n",
    "x2 = embedding2(x2)\n",
    "x2 = layers.Dropout(0.5)(x2)\n",
    "x2 = layers.Bidirectional(layers.LSTM(128, return_sequences=True))(x2)\n",
    "x2 = layers.Dropout(0.5)(x2)\n",
    "x2 = layers.Bidirectional(layers.LSTM(64))(x2)\n",
    "\n",
    "# Concatenate the outputs of all input layers\n",
    "concatenated = layers.Concatenate()([num_input, x1, x2])\n",
    "\n",
    "# Create the output layer\n",
    "outputs = layers.Dense(1, activation=\"linear\")(concatenated)\n",
    "\n",
    "# Create the model\n",
    "model_2 = tf.keras.Model([num_input, text_input_1, text_input_2], outputs, name=\"model_2_LSTM\")\n"
   ]
  },
  {
   "cell_type": "code",
   "execution_count": 30,
   "id": "2997c304-386e-4b93-bcf1-4a8da2a681ee",
   "metadata": {},
   "outputs": [
    {
     "data": {
      "image/png": "[encoded data removed]",
      "text/plain": [
       "<IPython.core.display.Image object>"
      ]
     },
     "execution_count": 30,
     "metadata": {},
     "output_type": "execute_result"
    }
   ],
   "source": [
    "plot_model(model_2, show_dtype=True, show_shapes=True, show_layer_names=True, to_file='model_1.png') "
   ]
  },
  {
   "cell_type": "code",
   "execution_count": 31,
   "id": "0a9ff6d9-615a-412f-932c-35d9a85e248f",
   "metadata": {},
   "outputs": [],
   "source": [
    "# Compile the model\n",
    "model_2.compile(loss=tf.keras.losses.mse,\n",
    "                          optimizer=tf.keras.optimizers.Adam(),\n",
    "                          metrics=['mse'])"
   ]
  },
  {
   "cell_type": "code",
   "execution_count": 32,
   "id": "5297ea3f-5ed7-403e-b886-e94f182e655e",
   "metadata": {},
   "outputs": [
    {
     "name": "stdout",
     "output_type": "stream",
     "text": [
      "Epoch 1/20\n",
      "1300/1300 [==============================] - 469s 354ms/step - loss: 721.0235 - mse: 721.0235\n",
      "Epoch 2/20\n",
      "1300/1300 [==============================] - 473s 364ms/step - loss: 8.8465 - mse: 8.8465\n",
      "Epoch 3/20\n",
      "1300/1300 [==============================] - 479s 368ms/step - loss: 8.1707 - mse: 8.1707\n",
      "Epoch 4/20\n",
      "1300/1300 [==============================] - 481s 370ms/step - loss: 7.4496 - mse: 7.4496\n",
      "Epoch 5/20\n",
      "1300/1300 [==============================] - 487s 375ms/step - loss: 3.4221 - mse: 3.4221\n",
      "Epoch 6/20\n",
      "1300/1300 [==============================] - 490s 377ms/step - loss: 2.0721 - mse: 2.0721\n",
      "Epoch 7/20\n",
      "1300/1300 [==============================] - 490s 377ms/step - loss: 2.1264 - mse: 2.1264\n",
      "Epoch 8/20\n",
      "1300/1300 [==============================] - 491s 378ms/step - loss: 1.5314 - mse: 1.5314\n",
      "Epoch 9/20\n",
      "1300/1300 [==============================] - 492s 378ms/step - loss: 1.3781 - mse: 1.3781\n",
      "Epoch 10/20\n",
      "1300/1300 [==============================] - 494s 380ms/step - loss: 1.2393 - mse: 1.2393\n",
      "Epoch 11/20\n",
      "1300/1300 [==============================] - 495s 380ms/step - loss: 1.1206 - mse: 1.1206\n",
      "Epoch 12/20\n",
      "1300/1300 [==============================] - 493s 379ms/step - loss: 1.0146 - mse: 1.0146\n",
      "Epoch 13/20\n",
      "1300/1300 [==============================] - 493s 379ms/step - loss: 0.9379 - mse: 0.9379\n",
      "Epoch 14/20\n",
      "1300/1300 [==============================] - 490s 377ms/step - loss: 0.8609 - mse: 0.8609\n",
      "Epoch 15/20\n",
      "1300/1300 [==============================] - 490s 377ms/step - loss: 0.8024 - mse: 0.8024\n",
      "Epoch 16/20\n",
      "1300/1300 [==============================] - 489s 376ms/step - loss: 0.7554 - mse: 0.7554\n",
      "Epoch 17/20\n",
      "1300/1300 [==============================] - 489s 376ms/step - loss: 0.6936 - mse: 0.6936\n",
      "Epoch 18/20\n",
      "1300/1300 [==============================] - 490s 377ms/step - loss: 0.6529 - mse: 0.6529\n",
      "Epoch 19/20\n",
      "1300/1300 [==============================] - 488s 375ms/step - loss: 0.6184 - mse: 0.6184\n",
      "Epoch 20/20\n",
      "1300/1300 [==============================] - 489s 376ms/step - loss: 0.5770 - mse: 0.5770\n"
     ]
    },
    {
     "data": {
      "text/plain": [
       "<keras.callbacks.History at 0x187be3e2ac0>"
      ]
     },
     "execution_count": 32,
     "metadata": {},
     "output_type": "execute_result"
    }
   ],
   "source": [
    "# Fit the model\n",
    "model_2.fit([X_train_dense, np.array(X_train['description']),np.array(X_train['winery'])], y_train, epochs=20, batch_size=32)"
   ]
  },
  {
   "cell_type": "code",
   "execution_count": 33,
   "id": "87e83191-44e5-4495-abbb-e95778adc751",
   "metadata": {},
   "outputs": [
    {
     "name": "stdout",
     "output_type": "stream",
     "text": [
      "325/325 [==============================] - 42s 122ms/step\n"
     ]
    }
   ],
   "source": [
    "# Make predictions on the validation dataset\n",
    "model_2_pred_probs = model_2.predict([X_test_dense, np.array(X_test['description']),np.array(X_test['winery'])])"
   ]
  },
  {
   "cell_type": "code",
   "execution_count": 34,
   "id": "55609c66-f95d-4af4-8aa7-302d95d67e38",
   "metadata": {},
   "outputs": [
    {
     "data": {
      "text/plain": [
       "<tf.Tensor: shape=(20,), dtype=float32, numpy=\n",
       "array([88., 83., 91., 88., 86., 87., 92., 86., 92., 92., 87., 89., 89.,\n",
       "       89., 84., 91., 87., 89., 88., 86.], dtype=float32)>"
      ]
     },
     "execution_count": 34,
     "metadata": {},
     "output_type": "execute_result"
    }
   ],
   "source": [
    "# Turn prediction probabilities into single-dimension tensor of floats\n",
    "model_1_preds = tf.squeeze(tf.round(model_2_pred_probs)) # squeeze removes single dimensions\n",
    "model_1_preds[:20]"
   ]
  },
  {
   "cell_type": "code",
   "execution_count": 37,
   "id": "c395e6ac-c3cf-4a14-9c28-db3064355fb0",
   "metadata": {},
   "outputs": [
    {
     "data": {
      "text/plain": [
       "{'MAE': 1.1689910551120515,\n",
       " 'MSE': 2.4660959892276617,\n",
       " 'R-squared': 0.7321339565226489}"
      ]
     },
     "execution_count": 37,
     "metadata": {},
     "output_type": "execute_result"
    }
   ],
   "source": [
    "# Get  results\n",
    "calculate_results(y_true= y_test,\n",
    "                                     y_pred=model_1_preds)\n"
   ]
  },
  {
   "cell_type": "code",
   "execution_count": 90,
   "id": "c62531f6-fbce-4d74-9417-aeeb6bfa1e44",
   "metadata": {},
   "outputs": [
    {
     "name": "stdout",
     "output_type": "stream",
     "text": [
      "Epoch 1/20\n",
      "650/650 [==============================] - 210s 310ms/step - loss: 1423.3765 - mse: 1423.3765\n",
      "Epoch 2/20\n",
      "650/650 [==============================] - 212s 327ms/step - loss: 9.4089 - mse: 9.4089\n",
      "Epoch 3/20\n",
      "650/650 [==============================] - 215s 330ms/step - loss: 8.9410 - mse: 8.9410\n",
      "Epoch 4/20\n",
      "650/650 [==============================] - 216s 332ms/step - loss: 8.6309 - mse: 8.6309\n",
      "Epoch 5/20\n",
      "650/650 [==============================] - 216s 333ms/step - loss: 8.2703 - mse: 8.2703\n",
      "Epoch 6/20\n",
      "650/650 [==============================] - 218s 335ms/step - loss: 7.8958 - mse: 7.8958\n",
      "Epoch 7/20\n",
      "650/650 [==============================] - 218s 335ms/step - loss: 7.5260 - mse: 7.5260\n",
      "Epoch 8/20\n",
      "650/650 [==============================] - 219s 337ms/step - loss: 5.9641 - mse: 5.9641\n",
      "Epoch 9/20\n",
      "650/650 [==============================] - 219s 337ms/step - loss: 5.0476 - mse: 5.0476\n",
      "Epoch 10/20\n",
      "650/650 [==============================] - 219s 337ms/step - loss: 4.6127 - mse: 4.6127\n",
      "Epoch 11/20\n",
      "650/650 [==============================] - 219s 337ms/step - loss: 4.1028 - mse: 4.1028\n",
      "Epoch 12/20\n",
      "650/650 [==============================] - 221s 340ms/step - loss: 3.7300 - mse: 3.7300\n",
      "Epoch 13/20\n",
      "650/650 [==============================] - 221s 340ms/step - loss: 3.4538 - mse: 3.4538\n",
      "Epoch 14/20\n",
      "650/650 [==============================] - 221s 340ms/step - loss: 3.1682 - mse: 3.1682\n",
      "Epoch 15/20\n",
      "650/650 [==============================] - 221s 340ms/step - loss: 2.4127 - mse: 2.4127\n",
      "Epoch 16/20\n",
      "650/650 [==============================] - 220s 339ms/step - loss: 1.9093 - mse: 1.9093\n",
      "Epoch 17/20\n",
      "650/650 [==============================] - 221s 339ms/step - loss: 1.5517 - mse: 1.5517\n",
      "Epoch 18/20\n",
      "650/650 [==============================] - 220s 338ms/step - loss: 1.2999 - mse: 1.2999\n",
      "Epoch 19/20\n",
      "650/650 [==============================] - 220s 338ms/step - loss: 1.1514 - mse: 1.1514\n",
      "Epoch 20/20\n",
      "650/650 [==============================] - 219s 337ms/step - loss: 1.0262 - mse: 1.0262\n"
     ]
    },
    {
     "data": {
      "text/plain": [
       "<keras.callbacks.History at 0x189e3534a00>"
      ]
     },
     "execution_count": 90,
     "metadata": {},
     "output_type": "execute_result"
    }
   ],
   "source": [
    "# Fit the model\n",
    "model_2.fit([X_train_dense, np.array(X_train['description']),np.array(X_train['winery'])], y_train, epochs=20, batch_size=32)"
   ]
  },
  {
   "cell_type": "code",
   "execution_count": 91,
   "id": "d5936aa2-75f9-4d79-8849-d70dcc102913",
   "metadata": {},
   "outputs": [
    {
     "name": "stdout",
     "output_type": "stream",
     "text": [
      "163/163 [==============================] - 15s 78ms/step\n"
     ]
    }
   ],
   "source": [
    "# Make predictions on the validation dataset\n",
    "model_2_pred_probs = model_2.predict([X_test_dense, np.array(X_test['description']),np.array(X_test['winery'])])"
   ]
  },
  {
   "cell_type": "code",
   "execution_count": 92,
   "id": "afca3030-a5b2-4869-8862-1cbbeb75c65c",
   "metadata": {},
   "outputs": [
    {
     "data": {
      "text/plain": [
       "<tf.Tensor: shape=(20,), dtype=float32, numpy=\n",
       "array([88., 87., 85., 88., 87., 94., 88., 92., 86., 85., 88., 88., 83.,\n",
       "       88., 87., 91., 93., 91., 91., 87.], dtype=float32)>"
      ]
     },
     "execution_count": 92,
     "metadata": {},
     "output_type": "execute_result"
    }
   ],
   "source": [
    "# Turn prediction probabilities into single-dimension tensor of floats\n",
    "model_1_preds = tf.squeeze(tf.round(model_2_pred_probs)) # squeeze removes single dimensions\n",
    "model_1_preds[:20]"
   ]
  },
  {
   "cell_type": "code",
   "execution_count": 93,
   "id": "f6b4a0db-7623-44ce-9b50-e043c7e21f93",
   "metadata": {},
   "outputs": [
    {
     "data": {
      "text/plain": [
       "{'MAE': 1.3058280438545875,\n",
       " 'MSE': 2.955376033852664,\n",
       " 'R-squared': 0.6853692896321124}"
      ]
     },
     "execution_count": 93,
     "metadata": {},
     "output_type": "execute_result"
    }
   ],
   "source": [
    "# Get  results\n",
    "calculate_results(y_true= y_test,\n",
    "                                     y_pred=model_1_preds)\n"
   ]
  },
  {
   "cell_type": "code",
   "execution_count": null,
   "id": "4cc3bdd5-12ed-45d0-877a-40f2f6d70120",
   "metadata": {},
   "outputs": [],
   "source": []
  }
 ],
 "metadata": {
  "kernelspec": {
   "display_name": "python_ml_2023",
   "language": "python",
   "name": "python_ml_2023"
  },
  "language_info": {
   "codemirror_mode": {
    "name": "ipython",
    "version": 3
   },
   "file_extension": ".py",
   "mimetype": "text/x-python",
   "name": "python",
   "nbconvert_exporter": "python",
   "pygments_lexer": "ipython3",
   "version": "3.9.13"
  }
 },
 "nbformat": 4,
 "nbformat_minor": 5
}
